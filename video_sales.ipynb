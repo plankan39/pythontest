{
 "metadata": {
  "language_info": {
   "codemirror_mode": {
    "name": "ipython",
    "version": 3
   },
   "file_extension": ".py",
   "mimetype": "text/x-python",
   "name": "python",
   "nbconvert_exporter": "python",
   "pygments_lexer": "ipython3",
   "version": "3.8.5-final"
  },
  "orig_nbformat": 2,
  "kernelspec": {
   "name": "python3",
   "display_name": "Python 3"
  }
 },
 "nbformat": 4,
 "nbformat_minor": 2,
 "cells": [
  {
   "cell_type": "code",
   "execution_count": 51,
   "metadata": {},
   "outputs": [],
   "source": [
    "import pandas as pd\n",
    "from sklearn.tree import DecisionTreeClassifier\n",
    "from sklearn.model_selection import train_test_split\n",
    "from sklearn.metrics import accuracy_score\n",
    "import joblib\n",
    "from sklearn import tree\n",
    "\n",
    "\n",
    "music = pd.read_csv('music.csv')\n",
    "\n",
    "X = music.drop(columns=['genre'])\n",
    "y = music['genre']\n"
   ]
  },
  {
   "cell_type": "code",
   "execution_count": null,
   "metadata": {},
   "outputs": [],
   "source": [
    "X_train, X_test, y_train, y_test = train_test_split(X, y, test_size = 0.2)\n",
    "\n",
    "model = DecisionTreeClassifier()\n",
    "model.fit(X_train, y_train)\n",
    "\n",
    "predict = model.predict(X_test) \n",
    "score = accuracy_score(y_test, predict)\n",
    "score"
   ]
  },
  {
   "cell_type": "code",
   "execution_count": 52,
   "metadata": {},
   "outputs": [
    {
     "output_type": "execute_result",
     "data": {
      "text/plain": [
       "['music-reccomender.joblib']"
      ]
     },
     "metadata": {},
     "execution_count": 52
    }
   ],
   "source": [
    "model_whole_set = DecisionTreeClassifier()\n",
    "model_whole_set.fit(X, y)\n",
    "joblib.dump(model_whole_set, 'music-reccomender.joblib')"
   ]
  },
  {
   "cell_type": "code",
   "execution_count": 48,
   "metadata": {},
   "outputs": [
    {
     "output_type": "execute_result",
     "data": {
      "text/plain": [
       "array(['HipHop'], dtype=object)"
      ]
     },
     "metadata": {},
     "execution_count": 48
    }
   ],
   "source": [
    "model_load = joblib.load('music-reccomender.joblib')\n",
    "predict_3 = model_load.predict([[21, 1]])\n",
    "predict_3"
   ]
  },
  {
   "cell_type": "code",
   "execution_count": 54,
   "metadata": {},
   "outputs": [],
   "source": [
    "tree.export_graphviz(model_whole_set, out_file = 'music-reccomender.dot', feature_names = ['age', 'gender'], class_names = sorted(y.unique()), label = 'all', rounded = True, filled = True)"
   ]
  }
 ]
}